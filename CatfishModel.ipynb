{
 "cells": [
  {
   "cell_type": "code",
   "execution_count": 1,
   "id": "6cc1a273-60e2-4b7d-9813-3ab331996de9",
   "metadata": {},
   "outputs": [],
   "source": [
    "import warnings\n",
    "warnings.filterwarnings(\"ignore\", category=FutureWarning)"
   ]
  },
  {
   "cell_type": "code",
   "execution_count": 2,
   "id": "defd7a4a-c59f-4570-aa4c-6a4b29152c00",
   "metadata": {},
   "outputs": [],
   "source": [
    "import numpy as np\n",
    "import pandas as pd\n",
    "\n",
    "import matplotlib.pyplot as plt\n",
    "%matplotlib inline\n",
    "\n",
    "import seaborn as sns\n",
    "sns.set(style = \"whitegrid\", \n",
    "        color_codes = True,\n",
    "        font_scale = 1.5)"
   ]
  },
  {
   "cell_type": "code",
   "execution_count": 11,
   "id": "fd9bc35e-6b01-4862-865f-7be4ac7a356b",
   "metadata": {},
   "outputs": [
    {
     "data": {
      "text/html": [
       "<div>\n",
       "<style scoped>\n",
       "    .dataframe tbody tr th:only-of-type {\n",
       "        vertical-align: middle;\n",
       "    }\n",
       "\n",
       "    .dataframe tbody tr th {\n",
       "        vertical-align: top;\n",
       "    }\n",
       "\n",
       "    .dataframe thead th {\n",
       "        text-align: right;\n",
       "    }\n",
       "</style>\n",
       "<table border=\"1\" class=\"dataframe\">\n",
       "  <thead>\n",
       "    <tr style=\"text-align: right;\">\n",
       "      <th></th>\n",
       "      <th>image_id</th>\n",
       "      <th>height_type</th>\n",
       "      <th>valid_height</th>\n",
       "      <th>height</th>\n",
       "    </tr>\n",
       "  </thead>\n",
       "  <tbody>\n",
       "    <tr>\n",
       "      <th>0</th>\n",
       "      <td>0</td>\n",
       "      <td>shoes_on</td>\n",
       "      <td>0</td>\n",
       "      <td>75</td>\n",
       "    </tr>\n",
       "    <tr>\n",
       "      <th>1</th>\n",
       "      <td>1</td>\n",
       "      <td>shoes_on</td>\n",
       "      <td>0</td>\n",
       "      <td>75</td>\n",
       "    </tr>\n",
       "    <tr>\n",
       "      <th>2</th>\n",
       "      <td>2</td>\n",
       "      <td>shoes_on</td>\n",
       "      <td>0</td>\n",
       "      <td>75</td>\n",
       "    </tr>\n",
       "    <tr>\n",
       "      <th>3</th>\n",
       "      <td>3</td>\n",
       "      <td>shoes_on</td>\n",
       "      <td>0</td>\n",
       "      <td>75</td>\n",
       "    </tr>\n",
       "    <tr>\n",
       "      <th>4</th>\n",
       "      <td>4</td>\n",
       "      <td>shoes_on</td>\n",
       "      <td>0</td>\n",
       "      <td>75</td>\n",
       "    </tr>\n",
       "  </tbody>\n",
       "</table>\n",
       "</div>"
      ],
      "text/plain": [
       "   image_id height_type  valid_height  height\n",
       "0         0    shoes_on             0      75\n",
       "1         1    shoes_on             0      75\n",
       "2         2    shoes_on             0      75\n",
       "3         3    shoes_on             0      75\n",
       "4         4    shoes_on             0      75"
      ]
     },
     "execution_count": 11,
     "metadata": {},
     "output_type": "execute_result"
    }
   ],
   "source": [
    "train = pd.read_csv('insert_training_data_here')\n",
    "train.head()"
   ]
  },
  {
   "cell_type": "code",
   "execution_count": 7,
   "id": "75282c46-c689-4ded-89e4-5f6bd8214f71",
   "metadata": {},
   "outputs": [
    {
     "ename": "NameError",
     "evalue": "name 'original_training_data' is not defined",
     "output_type": "error",
     "traceback": [
      "\u001b[0;31m---------------------------------------------------------------------------\u001b[0m",
      "\u001b[0;31mNameError\u001b[0m                                 Traceback (most recent call last)",
      "Cell \u001b[0;32mIn[7], line 2\u001b[0m\n\u001b[1;32m      1\u001b[0m \u001b[38;5;28;01mfrom\u001b[39;00m \u001b[38;5;21;01msklearn\u001b[39;00m\u001b[38;5;21;01m.\u001b[39;00m\u001b[38;5;21;01mmodel_selection\u001b[39;00m \u001b[38;5;28;01mimport\u001b[39;00m train_test_split\n\u001b[0;32m----> 2\u001b[0m train, val \u001b[38;5;241m=\u001b[39m train_test_split(\u001b[43moriginal_training_data\u001b[49m, test_size \u001b[38;5;241m=\u001b[39m \u001b[38;5;241m0.1\u001b[39m, random_state \u001b[38;5;241m=\u001b[39m \u001b[38;5;241m42\u001b[39m)\n\u001b[1;32m      3\u001b[0m train \u001b[38;5;241m=\u001b[39m train\u001b[38;5;241m.\u001b[39mreset_index(drop \u001b[38;5;241m=\u001b[39m \u001b[38;5;28;01mTrue\u001b[39;00m)\n",
      "\u001b[0;31mNameError\u001b[0m: name 'original_training_data' is not defined"
     ]
    }
   ],
   "source": [
    "from sklearn.model_selection import train_test_split\n",
    "train, val = train_test_split(original_training_data, test_size = 0.1, random_state = 42)\n",
    "train = train.reset_index(drop = True)"
   ]
  },
  {
   "cell_type": "code",
   "execution_count": null,
   "id": "fec865e8-aabe-4315-b33e-9abe2d8b39b6",
   "metadata": {},
   "outputs": [],
   "source": [
    "def words_in_texts(words, texts):\n",
    "    '''\n",
    "    Args:\n",
    "        words (list): words to find\n",
    "        texts (Series): strings to search in\n",
    "    \n",
    "    Returns:\n",
    "        A 2D NumPy array of 0s and 1s with shape (n, p) where n is the\n",
    "        number of texts and p is the number of words.\n",
    "    '''\n",
    "    import numpy as np\n",
    "    indicator_array = 1 * np.array([texts.str.contains(word) for word in words]).T\n",
    "    return indicator_array"
   ]
  },
  {
   "cell_type": "code",
   "execution_count": null,
   "id": "54f2c63f-e16e-42e8-be19-17da83027a45",
   "metadata": {},
   "outputs": [],
   "source": [
    "# Define your processing function, processed data, and model here. \n",
    "# You may find it helpful to look through the rest of the questions first!\n",
    "\n",
    "from sklearn.model_selection import GridSearchCV\n",
    "\n",
    "#emoji unicodes\n",
    "winking_face = 'U+1F60A'\n",
    "savoring_face = 'U+1F60B'\n",
    "heart_eyes = 'U+1F60D'\n",
    "smirking_face = 'U+1F60F'\n",
    "throwing_kiss = 'U+1F618'\n",
    "wink_tongue = 'U+1F61C'\n",
    "close_eyes_tongue = 'U+1F61D'\n",
    "\n",
    "\n",
    "feature_words = [winking_face, savoring_face, heart_eyes, smirking_face, throwing_kiss, wink_tongue, close_eyes_tongue, 'sweety',\n",
    "                'husband']\n",
    "#add more feature words\n",
    "\n",
    "new_X_train = np.array(words_in_texts(feature_words, train['____']))\n",
    "new_Y_train = np.array(train['____'])\n",
    "\n",
    "\n",
    "new_X_test = np.array(words_in_texts(feature_words, test['____']))\n",
    "\n",
    "\n",
    "model = LogisticRegression()\n",
    "\n",
    "params = {\n",
    "    'C': [0.001, 0.01, 0.1, 1, 10],\n",
    "    'penalty': ['l1'],\n",
    "    'solver': ['saga']\n",
    "}\n",
    "\n",
    "grid_s = GridSearchCV(model, params, cv = 6)\n",
    "grid_s.fit(new_X_train, new_Y_train)\n",
    "\n",
    "op_params = grid_s.best_params_\n",
    "op_model = grid_s.best_estimator_\n",
    "\n",
    "training_accuracy = op_model.score(new_X_train, new_Y_train)\n",
    "training_accuracy"
   ]
  }
 ],
 "metadata": {
  "kernelspec": {
   "display_name": "Python 3 (ipykernel)",
   "language": "python",
   "name": "python3"
  },
  "language_info": {
   "codemirror_mode": {
    "name": "ipython",
    "version": 3
   },
   "file_extension": ".py",
   "mimetype": "text/x-python",
   "name": "python",
   "nbconvert_exporter": "python",
   "pygments_lexer": "ipython3",
   "version": "3.11.4"
  }
 },
 "nbformat": 4,
 "nbformat_minor": 5
}
