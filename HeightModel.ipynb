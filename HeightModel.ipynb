{
 "cells": [
  {
   "cell_type": "code",
   "execution_count": null,
   "id": "cad21dbc-354b-48b9-baa0-a2f786b7904a",
   "metadata": {},
   "outputs": [],
   "source": [
    "import warnings\n",
    "warnings.filterwarnings(\"ignore\", category=FutureWarning)"
   ]
  },
  {
   "cell_type": "code",
   "execution_count": null,
   "id": "5313dce4-21f9-48c6-907a-bb7ff370ea4a",
   "metadata": {},
   "outputs": [],
   "source": [
    "import numpy as np\n",
    "import pandas as pd\n",
    "\n",
    "import matplotlib.pyplot as plt\n",
    "%matplotlib inline\n",
    "\n",
    "import seaborn as sns\n",
    "sns.set(style = \"whitegrid\", \n",
    "        color_codes = True,\n",
    "        font_scale = 1.5)"
   ]
  },
  {
   "cell_type": "code",
   "execution_count": null,
   "id": "34137311-07ac-41bf-9af9-ae198bc6ae81",
   "metadata": {},
   "outputs": [],
   "source": [
    "train = pd.read_csv('train_regulus_height_data')\n",
    "train.head()"
   ]
  },
  {
   "cell_type": "code",
   "execution_count": null,
   "id": "6f3f7905-2687-4aa7-b602-6122229b5e4b",
   "metadata": {},
   "outputs": [],
   "source": [
    "from sklearn.model_selection import train_test_split\n",
    "train, val = train_test_split(original_training_data, test_size = 0.1, random_state = 42)\n",
    "train = train.reset_index(drop = True)"
   ]
  },
  {
   "cell_type": "code",
   "execution_count": null,
   "id": "efde9b43-9179-482d-acda-3197c989f43b",
   "metadata": {},
   "outputs": [],
   "source": [
    "# Define your processing function, processed data, and model here. \n",
    "# You may find it helpful to look through the rest of the questions first!\n",
    "\n",
    "from sklearn.model_selection import GridSearchCV\n",
    "\n",
    "feature_words = []\n",
    "#add more feature words\n",
    "\n",
    "new_X_train = np.array(words_in_texts(feature_words, train['image_id']))\n",
    "new_Y_train = np.array(train['valid height'])\n",
    "\n",
    "\n",
    "new_X_test = np.array(words_in_texts(feature_words, test['image_id']))\n",
    "\n",
    "\n",
    "model = LogisticRegression()\n",
    "\n",
    "params = {\n",
    "    'C': [0.001, 0.01, 0.1, 1, 10],\n",
    "    'penalty': ['l1'],\n",
    "    'solver': ['saga']\n",
    "}\n",
    "\n",
    "grid_s = GridSearchCV(model, params, cv = 6)\n",
    "grid_s.fit(new_X_train, new_Y_train)\n",
    "\n",
    "op_params = grid_s.best_params_\n",
    "op_model = grid_s.best_estimator_\n",
    "\n",
    "training_accuracy = op_model.score(new_X_train, new_Y_train)\n",
    "training_accuracy"
   ]
  }
 ],
 "metadata": {
  "kernelspec": {
   "display_name": "Python 3 (ipykernel)",
   "language": "python",
   "name": "python3"
  },
  "language_info": {
   "codemirror_mode": {
    "name": "ipython",
    "version": 3
   },
   "file_extension": ".py",
   "mimetype": "text/x-python",
   "name": "python",
   "nbconvert_exporter": "python",
   "pygments_lexer": "ipython3",
   "version": "3.9.15"
  }
 },
 "nbformat": 4,
 "nbformat_minor": 5
}
