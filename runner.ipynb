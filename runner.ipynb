{
 "cells": [
  {
   "cell_type": "code",
   "execution_count": 2,
   "id": "e05b6a27",
   "metadata": {},
   "outputs": [],
   "source": [
    "from fastapi import FastAPI\n",
    "from fastapi.responses import Response\n",
    "from io import BytesIO\n",
    "import matplotlib.pyplot as plt\n",
    "import numpy as np\n",
    "import os\n",
    "import requests\n",
    "import time\n",
    "import uuid\n",
    "\n",
    "import ray\n",
    "from ray import serve"
   ]
  },
  {
   "cell_type": "code",
   "execution_count": 3,
   "id": "c4b77cce",
   "metadata": {},
   "outputs": [
    {
     "name": "stderr",
     "output_type": "stream",
     "text": [
      "2023-06-18 01:40:34,144\tINFO worker.py:1452 -- Connecting to existing Ray cluster at address: 10.0.53.31:6379...\n",
      "2023-06-18 01:40:34,152\tINFO worker.py:1627 -- Connected to Ray cluster. View the dashboard at https://console.anyscale.com/api/v2/sessions/ses_mfwrvqyelivjusiq9xmryijnu4/services?redirect_to=dashboard \n",
      "2023-06-18 01:40:34,154\tINFO packaging.py:347 -- Pushing file package 'gcs://_ray_pkg_4a71e653b6e6ebf6af42cee56960dca6.zip' (0.00MiB) to Ray cluster...\n",
      "2023-06-18 01:40:34,155\tINFO packaging.py:360 -- Successfully pushed file package 'gcs://_ray_pkg_4a71e653b6e6ebf6af42cee56960dca6.zip'.\n"
     ]
    },
    {
     "data": {
      "text/html": [
       "<div>\n",
       "    <div style=\"margin-left: 50px;display: flex;flex-direction: row;align-items: center\">\n",
       "        <h3 style=\"color: var(--jp-ui-font-color0)\">Ray</h3>\n",
       "        <svg version=\"1.1\" id=\"ray\" width=\"3em\" viewBox=\"0 0 144.5 144.6\" style=\"margin-left: 3em;margin-right: 3em\">\n",
       "            <g id=\"layer-1\">\n",
       "                <path fill=\"#00a2e9\" class=\"st0\" d=\"M97.3,77.2c-3.8-1.1-6.2,0.9-8.3,5.1c-3.5,6.8-9.9,9.9-17.4,9.6S58,88.1,54.8,81.2c-1.4-3-3-4-6.3-4.1\n",
       "                    c-5.6-0.1-9.9,0.1-13.1,6.4c-3.8,7.6-13.6,10.2-21.8,7.6C5.2,88.4-0.4,80.5,0,71.7c0.1-8.4,5.7-15.8,13.8-18.2\n",
       "                    c8.4-2.6,17.5,0.7,22.3,8c1.3,1.9,1.3,5.2,3.6,5.6c3.9,0.6,8,0.2,12,0.2c1.8,0,1.9-1.6,2.4-2.8c3.5-7.8,9.7-11.8,18-11.9\n",
       "                    c8.2-0.1,14.4,3.9,17.8,11.4c1.3,2.8,2.9,3.6,5.7,3.3c1-0.1,2,0.1,3,0c2.8-0.5,6.4,1.7,8.1-2.7s-2.3-5.5-4.1-7.5\n",
       "                    c-5.1-5.7-10.9-10.8-16.1-16.3C84,38,81.9,37.1,78,38.3C66.7,42,56.2,35.7,53,24.1C50.3,14,57.3,2.8,67.7,0.5\n",
       "                    C78.4-2,89,4.7,91.5,15.3c0.1,0.3,0.1,0.5,0.2,0.8c0.7,3.4,0.7,6.9-0.8,9.8c-1.7,3.2-0.8,5,1.5,7.2c6.7,6.5,13.3,13,19.8,19.7\n",
       "                    c1.8,1.8,3,2.1,5.5,1.2c9.1-3.4,17.9-0.6,23.4,7c4.8,6.9,4.6,16.1-0.4,22.9c-5.4,7.2-14.2,9.9-23.1,6.5c-2.3-0.9-3.5-0.6-5.1,1.1\n",
       "                    c-6.7,6.9-13.6,13.7-20.5,20.4c-1.8,1.8-2.5,3.2-1.4,5.9c3.5,8.7,0.3,18.6-7.7,23.6c-7.9,5-18.2,3.8-24.8-2.9\n",
       "                    c-6.4-6.4-7.4-16.2-2.5-24.3c4.9-7.8,14.5-11,23.1-7.8c3,1.1,4.7,0.5,6.9-1.7C91.7,98.4,98,92.3,104.2,86c1.6-1.6,4.1-2.7,2.6-6.2\n",
       "                    c-1.4-3.3-3.8-2.5-6.2-2.6C99.8,77.2,98.9,77.2,97.3,77.2z M72.1,29.7c5.5,0.1,9.9-4.3,10-9.8c0-0.1,0-0.2,0-0.3\n",
       "                    C81.8,14,77,9.8,71.5,10.2c-5,0.3-9,4.2-9.3,9.2c-0.2,5.5,4,10.1,9.5,10.3C71.8,29.7,72,29.7,72.1,29.7z M72.3,62.3\n",
       "                    c-5.4-0.1-9.9,4.2-10.1,9.7c0,0.2,0,0.3,0,0.5c0.2,5.4,4.5,9.7,9.9,10c5.1,0.1,9.9-4.7,10.1-9.8c0.2-5.5-4-10-9.5-10.3\n",
       "                    C72.6,62.3,72.4,62.3,72.3,62.3z M115,72.5c0.1,5.4,4.5,9.7,9.8,9.9c5.6-0.2,10-4.8,10-10.4c-0.2-5.4-4.6-9.7-10-9.7\n",
       "                    c-5.3-0.1-9.8,4.2-9.9,9.5C115,72.1,115,72.3,115,72.5z M19.5,62.3c-5.4,0.1-9.8,4.4-10,9.8c-0.1,5.1,5.2,10.4,10.2,10.3\n",
       "                    c5.6-0.2,10-4.9,9.8-10.5c-0.1-5.4-4.5-9.7-9.9-9.6C19.6,62.3,19.5,62.3,19.5,62.3z M71.8,134.6c5.9,0.2,10.3-3.9,10.4-9.6\n",
       "                    c0.5-5.5-3.6-10.4-9.1-10.8c-5.5-0.5-10.4,3.6-10.8,9.1c0,0.5,0,0.9,0,1.4c-0.2,5.3,4,9.8,9.3,10\n",
       "                    C71.6,134.6,71.7,134.6,71.8,134.6z\"/>\n",
       "            </g>\n",
       "        </svg>\n",
       "        <table>\n",
       "            <tr>\n",
       "                <td style=\"text-align: left\"><b>Python version:</b></td>\n",
       "                <td style=\"text-align: left\"><b>3.9.15</b></td>\n",
       "            </tr>\n",
       "            <tr>\n",
       "                <td style=\"text-align: left\"><b>Ray version:</b></td>\n",
       "                <td style=\"text-align: left\"><b> 2.5.0</b></td>\n",
       "            </tr>\n",
       "            <tr>\n",
       "    <td style=\"text-align: left\"><b>Dashboard:</b></td>\n",
       "    <td style=\"text-align: left\"><b><a href=\"http://console.anyscale.com/api/v2/sessions/ses_mfwrvqyelivjusiq9xmryijnu4/services?redirect_to=dashboard\" target=\"_blank\">http://console.anyscale.com/api/v2/sessions/ses_mfwrvqyelivjusiq9xmryijnu4/services?redirect_to=dashboard</a></b></td>\n",
       "</tr>\n",
       "\n",
       "        </table>\n",
       "    </div>\n",
       "</div>\n"
      ],
      "text/plain": [
       "RayContext(dashboard_url='console.anyscale.com/api/v2/sessions/ses_mfwrvqyelivjusiq9xmryijnu4/services?redirect_to=dashboard', python_version='3.9.15', ray_version='2.5.0', ray_commit='586c376e0769082cb5cfa1333e8264a5fa6b73ec', address_info={'node_ip_address': '10.0.53.31', 'raylet_ip_address': '10.0.53.31', 'redis_address': None, 'object_store_address': '/tmp/ray/session_2023-06-18_01-37-13_994897_99/sockets/plasma_store', 'raylet_socket_name': '/tmp/ray/session_2023-06-18_01-37-13_994897_99/sockets/raylet', 'webui_url': 'console.anyscale.com/api/v2/sessions/ses_mfwrvqyelivjusiq9xmryijnu4/services?redirect_to=dashboard', 'session_dir': '/tmp/ray/session_2023-06-18_01-37-13_994897_99', 'metrics_export_port': 8085, 'gcs_address': '10.0.53.31:6379', 'address': '10.0.53.31:6379', 'dashboard_agent_listen_port': 6822, 'node_id': 'f992d7f2aa4d8213702181185d4e375c770706163096d407b415bd7e'})"
      ]
     },
     "execution_count": 3,
     "metadata": {},
     "output_type": "execute_result"
    }
   ],
   "source": [
    "ray.init()"
   ]
  },
  {
   "cell_type": "code",
   "execution_count": 4,
   "id": "8dd76ea8",
   "metadata": {},
   "outputs": [],
   "source": [
    "NUM_REPLICAS: int = 4\n",
    "if NUM_REPLICAS > ray.available_resources()[\"GPU\"]:\n",
    "    print(\n",
    "        \"Your cluster does not currently have enough resources to run with these settings. \"\n",
    "        \"Consider decreasing the number of workers, or decreasing the resources needed \"\n",
    "        \"per worker. Ignore this if your cluster auto-scales.\"\n",
    "    )"
   ]
  },
  {
   "cell_type": "code",
   "execution_count": null,
   "id": "21d09043",
   "metadata": {},
   "outputs": [],
   "source": [
    "@serve.deployment(\n",
    "    ray_actor_options={\"num_gpus\": 1},\n",
    "    num_replicas=NUM_REPLICAS,\n",
    ")\n",
    "class MyModel"
   ]
  },
  {
   "cell_type": "code",
   "execution_count": null,
   "id": "ecb16fe9",
   "metadata": {},
   "outputs": [],
   "source": [
    "serve.init()\n",
    "\n",
    "model_path = \"path/to/model.pkl\"\n",
    "serve.create_endpoint(\"my_endpoint\", \"/predict\")\n",
    "serve.create_backend(\"my_model\", MyModel, model_path=model_path)\n",
    "serve.link(\"my_endpoint\", \"my_model\")\n"
   ]
  },
  {
   "cell_type": "code",
   "execution_count": null,
   "id": "be760941",
   "metadata": {},
   "outputs": [],
   "source": [
    "import requests\n",
    "\n",
    "endpoint = \"http://localhost:8000/predict\"\n",
    "input_data = #image input goes here\n",
    "\n",
    "response = requests.post(endpoint, json={\"input\": input_data})\n",
    "predictions = response.json()[\"predictions\"]"
   ]
  }
 ],
 "metadata": {
  "language_info": {
   "name": "python"
  }
 },
 "nbformat": 4,
 "nbformat_minor": 5
}
